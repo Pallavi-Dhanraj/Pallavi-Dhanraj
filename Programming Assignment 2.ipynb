{
 "cells": [
  {
   "cell_type": "code",
   "execution_count": 1,
   "metadata": {},
   "outputs": [
    {
     "name": "stdout",
     "output_type": "stream",
     "text": [
      "Enter value in kilometer: 4\n",
      "4.0 km is equal to 2.485484 miles\n"
     ]
    }
   ],
   "source": [
    "#1.\tWrite a Python program to convert kilometers to miles?\n",
    "#1km = 0.621371miles\n",
    "a = float(input(\"Enter value in kilometer: \"))\n",
    "convert_in_miles = a * 0.621371\n",
    "print(\"{} km is equal to {} miles\".format(a,convert_in_miles))"
   ]
  },
  {
   "cell_type": "code",
   "execution_count": 2,
   "metadata": {},
   "outputs": [
    {
     "name": "stdout",
     "output_type": "stream",
     "text": [
      "Enter temperature in Celsius: 6\n",
      "6.0 degree celsius is equal to 42.8 Fahrenheit\n"
     ]
    }
   ],
   "source": [
    "#2.\tWrite a Python program to convert Celsius to Fahrenheit?\n",
    "#(°C × 9/5) + 32 = °F\n",
    "a=float(input(\"Enter temperature in Celsius: \"))\n",
    "Fahrenheit = (a * 1.8) + 32\n",
    "print(\"{} degree celsius is equal to {} Fahrenheit\".format(a,Fahrenheit))"
   ]
  },
  {
   "cell_type": "code",
   "execution_count": 3,
   "metadata": {},
   "outputs": [
    {
     "name": "stdout",
     "output_type": "stream",
     "text": [
      "Year: 2021\n",
      "month: 5\n",
      "      May 2021\n",
      "Mo Tu We Th Fr Sa Su\n",
      "                1  2\n",
      " 3  4  5  6  7  8  9\n",
      "10 11 12 13 14 15 16\n",
      "17 18 19 20 21 22 23\n",
      "24 25 26 27 28 29 30\n",
      "31\n",
      "\n"
     ]
    }
   ],
   "source": [
    "#3.\tWrite a Python program to display calendar?\n",
    "import calendar\n",
    "year = int(input(\"Year: \"))\n",
    "month = int(input(\"month: \"))\n",
    "print(calendar.month(year,month))"
   ]
  },
  {
   "cell_type": "code",
   "execution_count": 4,
   "metadata": {},
   "outputs": [
    {
     "name": "stdout",
     "output_type": "stream",
     "text": [
      "Enter a: 1\n",
      "Enter b: 5\n",
      "Enter c: 6\n",
      "The solution are (-3+0j) and (-2+0j)\n"
     ]
    }
   ],
   "source": [
    "#4.\tWrite a Python program to solve quadratic equation?\n",
    "# Quadratic Equation :a*x**2 + b*x + c=0\n",
    "import cmath\n",
    "a = int(input(\"Enter a: \"))\n",
    "b = int(input(\"Enter b: \")) \n",
    "c = int(input(\"Enter c: \"))\n",
    "\n",
    "d = b**2 - 4*a*c\n",
    "First_root = (-b-cmath.sqrt(d))/(2*a)\n",
    "Second_root = (-b+cmath.sqrt(d))/(2*a)\n",
    "\n",
    "print(\"The solution are {} and {}\".format(First_root,Second_root))"
   ]
  },
  {
   "cell_type": "code",
   "execution_count": 5,
   "metadata": {},
   "outputs": [
    {
     "name": "stdout",
     "output_type": "stream",
     "text": [
      "Enter value of a : 3\n",
      "Enter value of b : 4\n",
      "value of 'a' after swapping is 4\n",
      "value of 'b' after swapping is 3\n"
     ]
    }
   ],
   "source": [
    "#5.\tWrite a Python program to swap two variables without temp variable?\n",
    "a = int(input(\"Enter value of a : \" ))\n",
    "b = int(input(\"Enter value of b : \"))\n",
    "a , b = b , a\n",
    "print(\"value of 'a' after swapping is {}\".format(a))\n",
    "print(\"value of 'b' after swapping is {}\".format(b))"
   ]
  },
  {
   "cell_type": "code",
   "execution_count": null,
   "metadata": {},
   "outputs": [],
   "source": []
  }
 ],
 "metadata": {
  "kernelspec": {
   "display_name": "Python 3",
   "language": "python",
   "name": "python3"
  },
  "language_info": {
   "codemirror_mode": {
    "name": "ipython",
    "version": 3
   },
   "file_extension": ".py",
   "mimetype": "text/x-python",
   "name": "python",
   "nbconvert_exporter": "python",
   "pygments_lexer": "ipython3",
   "version": "3.8.5"
  }
 },
 "nbformat": 4,
 "nbformat_minor": 4
}
